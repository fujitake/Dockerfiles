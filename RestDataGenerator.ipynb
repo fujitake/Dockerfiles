{
  "nbformat": 4,
  "nbformat_minor": 0,
  "metadata": {
    "colab": {
      "provenance": [],
      "authorship_tag": "ABX9TyP+EuSqQW1TEta9khX3EEdm",
      "include_colab_link": true
    },
    "kernelspec": {
      "name": "python3",
      "display_name": "Python 3"
    },
    "language_info": {
      "name": "python"
    }
  },
  "cells": [
    {
      "cell_type": "markdown",
      "metadata": {
        "id": "view-in-github",
        "colab_type": "text"
      },
      "source": [
        "<a href=\"https://colab.research.google.com/github/fujitake/Dockerfiles/blob/main/RestDataGenerator.ipynb\" target=\"_parent\"><img src=\"https://colab.research.google.com/assets/colab-badge.svg\" alt=\"Open In Colab\"/></a>"
      ]
    },
    {
      "cell_type": "markdown",
      "source": [
        "# Vantiq トレーニングセッション用データジェネレータ\n",
        "## 設定手順\n",
        "- 設定手順に使用するデータ送信先のVantiqのurlとaccesstokenを設定する\n",
        "- urlは、自分で作成したVantiq topic名を入力すること\n",
        "- accesstokenは、Vantiq IDEのメニュー 管理(Administer) -> Advanced -> Access Tokensより生成し入力する\n",
        "\n",
        "## 注意事項\n",
        "データジェネレータを実行する前に必ず設定情報を実行する必要がある"
      ],
      "metadata": {
        "id": "okmzYlHmq-9B"
      }
    },
    {
      "cell_type": "code",
      "execution_count": 1,
      "metadata": {
        "id": "4VR-Yr6Uq9k7"
      },
      "outputs": [],
      "source": [
        "# 設定情報\n",
        "url = \"\n",
        "accesstoken = \"\""
      ]
    },
    {
      "cell_type": "code",
      "source": [
        "# データジェネレータ本体\n",
        "import requests\n",
        "import json\n",
        "import random\n",
        "import datetime\n",
        "\n",
        "\n",
        "authorization = \"Bearer\" + \" \" + accesstoken\n",
        "\n",
        "temp = random.randint(240,269)\n",
        "now = datetime.datetime.now().isoformat()\n",
        "\n",
        "payload = json.dumps({\n",
        "  \"sensorID\": \"1\",\n",
        "  \"time\": now,\n",
        "  \"temp\": temp\n",
        "})\n",
        "\n",
        "headers = {\n",
        "  'Content-Type': 'application/json',\n",
        "  'Authorization': authorization\n",
        "}\n",
        "\n",
        "response = requests.request(\"POST\", url, headers=headers, data=payload)\n",
        "\n",
        "print(response.text)"
      ],
      "metadata": {
        "colab": {
          "base_uri": "https://localhost:8080/"
        },
        "id": "_Hl2OLPUrUe7",
        "outputId": "d6d89daf-53ff-4e6f-f2dd-c591af1ff754"
      },
      "execution_count": 3,
      "outputs": [
        {
          "output_type": "stream",
          "name": "stdout",
          "text": [
            "true\n"
          ]
        }
      ]
    }
  ]
}
